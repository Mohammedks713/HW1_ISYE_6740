{
 "cells": [
  {
   "cell_type": "code",
   "id": "initial_id",
   "metadata": {
    "collapsed": true,
    "ExecuteTime": {
     "end_time": "2024-08-26T07:54:56.368462Z",
     "start_time": "2024-08-26T07:54:56.145367Z"
    }
   },
   "source": [
    "# import libraries\n",
    "import numpy as np\n"
   ],
   "outputs": [],
   "execution_count": 1
  },
  {
   "metadata": {},
   "cell_type": "markdown",
   "source": "# Section 1",
   "id": "aa37229a924a1b84"
  },
  {
   "metadata": {},
   "cell_type": "markdown",
   "source": [
    "## Question 6\n",
    "Below we will use the numpy library to calculate the eigenvalues and eigenvectors for the \n",
    "graph laplacian we calculated earlier numerically"
   ],
   "id": "f4ab76f16c3fbf4a"
  },
  {
   "metadata": {
    "ExecuteTime": {
     "end_time": "2024-08-26T07:55:35.451883Z",
     "start_time": "2024-08-26T07:55:35.426781Z"
    }
   },
   "cell_type": "code",
   "source": [
    "# calculate the eigenvalues and eigenvectors\n",
    "L = np.array([\n",
    "    [2, -1, -1, 0, 0],\n",
    "    [-1, 2, -1, 0, 0],\n",
    "    [-1, -1, 2, 0, 0],\n",
    "    [0, 0, 0, 1, -1],\n",
    "    [0, 0, 0, -1, 1]\n",
    "])\n",
    "\n",
    "eigenvalues, eigenvectors = np.linalg.eig(L)\n",
    "\n",
    "idx = np.argsort(eigenvalues)\n",
    "eigenvalues = eigenvalues[idx]\n",
    "eigenvectors = eigenvectors[:, idx]\n"
   ],
   "id": "3f2c802c1ae667f9",
   "outputs": [],
   "execution_count": 3
  },
  {
   "metadata": {
    "ExecuteTime": {
     "end_time": "2024-08-26T07:57:02.108745Z",
     "start_time": "2024-08-26T07:57:02.104602Z"
    }
   },
   "cell_type": "code",
   "source": [
    "# print results\n",
    "print(\"Eigenvalues:\", eigenvalues)\n"
   ],
   "id": "8f9b13176ede3945",
   "outputs": [
    {
     "name": "stdout",
     "output_type": "stream",
     "text": [
      "Eigenvalues: [-4.4408921e-16  0.0000000e+00  2.0000000e+00  3.0000000e+00\n",
      "  3.0000000e+00]\n"
     ]
    }
   ],
   "execution_count": 9
  },
  {
   "metadata": {
    "ExecuteTime": {
     "end_time": "2024-08-26T07:57:20.536517Z",
     "start_time": "2024-08-26T07:57:20.531822Z"
    }
   },
   "cell_type": "code",
   "source": "print(\"Eigenvectors:\\n\", eigenvectors)",
   "id": "70eb954bb10d6a37",
   "outputs": [
    {
     "name": "stdout",
     "output_type": "stream",
     "text": [
      "Eigenvectors:\n",
      " [[-0.57735027  0.          0.          0.81649658  0.29329423]\n",
      " [-0.57735027  0.          0.         -0.40824829 -0.80655913]\n",
      " [-0.57735027  0.          0.         -0.40824829  0.5132649 ]\n",
      " [ 0.          0.70710678  0.70710678  0.          0.        ]\n",
      " [ 0.          0.70710678 -0.70710678  0.          0.        ]]\n"
     ]
    }
   ],
   "execution_count": 11
  },
  {
   "metadata": {},
   "cell_type": "markdown",
   "source": "The first two eigenvalues are ~ 0 and correspond to the connected components. The corresponding first two eigenvectors highlight that the first three nodes 1 to 3 belong to a single component and the nodes 4 and 5 belong to another component. ",
   "id": "78b71a417995da83"
  },
  {
   "metadata": {},
   "cell_type": "markdown",
   "source": "",
   "id": "762cc295932b78e3"
  },
  {
   "metadata": {},
   "cell_type": "markdown",
   "source": "",
   "id": "bf0da6cf54123d75"
  }
 ],
 "metadata": {
  "kernelspec": {
   "display_name": "Python 3",
   "language": "python",
   "name": "python3"
  },
  "language_info": {
   "codemirror_mode": {
    "name": "ipython",
    "version": 2
   },
   "file_extension": ".py",
   "mimetype": "text/x-python",
   "name": "python",
   "nbconvert_exporter": "python",
   "pygments_lexer": "ipython2",
   "version": "2.7.6"
  }
 },
 "nbformat": 4,
 "nbformat_minor": 5
}
